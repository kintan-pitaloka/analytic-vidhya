{
 "cells": [
  {
   "cell_type": "code",
   "execution_count": 2,
   "id": "090c51c3",
   "metadata": {},
   "outputs": [],
   "source": [
    "import pandas as pd\n",
    "import numpy as np\n",
    "import matplotlib.pyplot as plt\n",
    "import seaborn as sns\n",
    "%matplotlib inline\n",
    "\n",
    "import warnings\n",
    "warnings.simplefilter(\"ignore\")"
   ]
  },
  {
   "cell_type": "code",
   "execution_count": 3,
   "id": "78d18a95",
   "metadata": {},
   "outputs": [],
   "source": [
    "a = 5\n",
    "b = 7"
   ]
  },
  {
   "cell_type": "code",
   "execution_count": 5,
   "id": "aa775a4e",
   "metadata": {},
   "outputs": [
    {
     "name": "stdout",
     "output_type": "stream",
     "text": [
      " aaa\n"
     ]
    }
   ],
   "source": [
    "if (a != b):\n",
    "    print (\" aaa\")"
   ]
  },
  {
   "cell_type": "code",
   "execution_count": 6,
   "id": "7cc876e1",
   "metadata": {},
   "outputs": [
    {
     "name": "stdout",
     "output_type": "stream",
     "text": [
      "good\n"
     ]
    }
   ],
   "source": [
    "#conditional sentence\n",
    "\n",
    "marks = 20\n",
    "\n",
    "if(marks>15):\n",
    "    print(\"good\")\n",
    "else:\n",
    "    print(\"improve\")"
   ]
  },
  {
   "cell_type": "code",
   "execution_count": 7,
   "id": "d7802057",
   "metadata": {},
   "outputs": [
    {
     "name": "stdout",
     "output_type": "stream",
     "text": [
      "firstname ptloka\n"
     ]
    }
   ],
   "source": [
    "firstname = \"kintan\"\n",
    "lastname = \"ptloka\"\n",
    "\n",
    "if firstname == \"pitaloka\":\n",
    "       print(\"lastname\", firstname)\n",
    "else:\n",
    "    print(\"firstname\", lastname)"
   ]
  },
  {
   "cell_type": "code",
   "execution_count": 8,
   "id": "bcf90cec",
   "metadata": {},
   "outputs": [],
   "source": [
    "# looping "
   ]
  },
  {
   "cell_type": "code",
   "execution_count": 9,
   "id": "856d8f84",
   "metadata": {},
   "outputs": [
    {
     "name": "stdout",
     "output_type": "stream",
     "text": [
      "1 4 7 "
     ]
    }
   ],
   "source": [
    "for number in range (1, 10, 3):\n",
    "    print(number, end= ' ')"
   ]
  },
  {
   "cell_type": "code",
   "execution_count": 10,
   "id": "09244776",
   "metadata": {},
   "outputs": [
    {
     "name": "stdout",
     "output_type": "stream",
     "text": [
      "1 A 1 B 1 C 1 D "
     ]
    }
   ],
   "source": [
    "#define the range of outer loop\n",
    "\n",
    "for outer_loop_number in range(1,2):\n",
    "    \n",
    "    #define the inner loop\n",
    "    for inner_loop_character in \"ABCD\":\n",
    "        \n",
    "        print(outer_loop_number, inner_loop_character, end=' ')"
   ]
  },
  {
   "cell_type": "code",
   "execution_count": 11,
   "id": "b1731872",
   "metadata": {},
   "outputs": [
    {
     "name": "stdout",
     "output_type": "stream",
     "text": [
      "x nxx lxyxtxx cxsx"
     ]
    }
   ],
   "source": [
    "for character in \"analytics\":\n",
    "    \n",
    "    if (character == \"a\") or (character == \"i\"):\n",
    "        print (\"x\", end = ' ')\n",
    "    else:\n",
    "        print(character, end='x')"
   ]
  },
  {
   "cell_type": "code",
   "execution_count": 12,
   "id": "0ff92a23",
   "metadata": {},
   "outputs": [
    {
     "name": "stdout",
     "output_type": "stream",
     "text": [
      "10 9 "
     ]
    }
   ],
   "source": [
    "number = 10\n",
    "\n",
    "while number > 5:\n",
    "    print(number, end= ' ')\n",
    "    \n",
    "    number = number - 1\n",
    "    \n",
    "    if number ==8:\n",
    "        number = 2"
   ]
  },
  {
   "cell_type": "code",
   "execution_count": 13,
   "id": "3b440d74",
   "metadata": {},
   "outputs": [
    {
     "name": "stdout",
     "output_type": "stream",
     "text": [
      "0 1 3 4 5 6 7 8 9 "
     ]
    }
   ],
   "source": [
    "number = 0\n",
    "\n",
    "for number in range (10):\n",
    "    if number == 2:\n",
    "        continue \n",
    "        \n",
    "    print(number, end = ' ')"
   ]
  },
  {
   "cell_type": "code",
   "execution_count": 14,
   "id": "b4cf4bcf",
   "metadata": {},
   "outputs": [
    {
     "name": "stdout",
     "output_type": "stream",
     "text": [
      "9 7 5 "
     ]
    }
   ],
   "source": [
    "number = 10 \n",
    "\n",
    "while number > 3:\n",
    "    \n",
    "    if number%2 ==0:\n",
    "        number = number - 1\n",
    "        continue\n",
    "    else:\n",
    "        print(number, end = ' ')\n",
    "        number = number - 1"
   ]
  },
  {
   "cell_type": "code",
   "execution_count": 15,
   "id": "62f1b0d3",
   "metadata": {},
   "outputs": [],
   "source": [
    "## intro to data structure"
   ]
  },
  {
   "cell_type": "code",
   "execution_count": 16,
   "id": "9ae4f737",
   "metadata": {},
   "outputs": [],
   "source": [
    "test = ['This','is','1','list']"
   ]
  },
  {
   "cell_type": "code",
   "execution_count": 17,
   "id": "484a06ee",
   "metadata": {},
   "outputs": [
    {
     "data": {
      "text/plain": [
       "'is'"
      ]
     },
     "execution_count": 17,
     "metadata": {},
     "output_type": "execute_result"
    }
   ],
   "source": [
    "test[1]"
   ]
  },
  {
   "cell_type": "code",
   "execution_count": 18,
   "id": "c205d070",
   "metadata": {},
   "outputs": [
    {
     "data": {
      "text/plain": [
       "'A'"
      ]
     },
     "execution_count": 18,
     "metadata": {},
     "output_type": "execute_result"
    }
   ],
   "source": [
    "my_list = [['A','B'],\n",
    "          ['X','A'],\n",
    "          ['B','A'],\n",
    "          ['A','X']]\n",
    "my_list[2][1]"
   ]
  },
  {
   "cell_type": "code",
   "execution_count": 19,
   "id": "0e32b883",
   "metadata": {},
   "outputs": [],
   "source": [
    "##tuple"
   ]
  },
  {
   "cell_type": "code",
   "execution_count": 20,
   "id": "a775b537",
   "metadata": {},
   "outputs": [
    {
     "data": {
      "text/plain": [
       "4"
      ]
     },
     "execution_count": 20,
     "metadata": {},
     "output_type": "execute_result"
    }
   ],
   "source": [
    "tuplee = ('A','B','C','D','E','E',1,'D')\n",
    "tuplee.index('E')"
   ]
  },
  {
   "cell_type": "code",
   "execution_count": 22,
   "id": "9f71de30",
   "metadata": {},
   "outputs": [
    {
     "data": {
      "text/plain": [
       "2"
      ]
     },
     "execution_count": 22,
     "metadata": {},
     "output_type": "execute_result"
    }
   ],
   "source": [
    "#tuple\n",
    "tuplee = ('A','B','B','C','B','D')\n",
    "tuplee[2:5].count('B')"
   ]
  },
  {
   "cell_type": "code",
   "execution_count": 23,
   "id": "9598a550",
   "metadata": {},
   "outputs": [
    {
     "data": {
      "text/plain": [
       "(1, 1)"
      ]
     },
     "execution_count": 23,
     "metadata": {},
     "output_type": "execute_result"
    }
   ],
   "source": [
    "tuplee = ((1,2,3,1),\n",
    "         (1,1,1,1,2),\n",
    "         (2,1,2,1),\n",
    "         (1,2,1,1))\n",
    "\n",
    "tuplee[1][1:3]"
   ]
  },
  {
   "cell_type": "code",
   "execution_count": 24,
   "id": "a74597c5",
   "metadata": {},
   "outputs": [],
   "source": [
    "#sets"
   ]
  },
  {
   "cell_type": "code",
   "execution_count": 25,
   "id": "0f760d32",
   "metadata": {},
   "outputs": [
    {
     "data": {
      "text/plain": [
       "False"
      ]
     },
     "execution_count": 25,
     "metadata": {},
     "output_type": "execute_result"
    }
   ],
   "source": [
    "#define 3 randoms sets\n",
    "sample_set_1 = {1,2,3,4,5,6}\n",
    "sample_set_2 = {1,4,3}\n",
    "\n",
    "#check if 2 sets are disjoint sets\n",
    "sample_set_1.isdisjoint(sample_set_2)"
   ]
  },
  {
   "cell_type": "code",
   "execution_count": 26,
   "id": "c5ea88ae",
   "metadata": {},
   "outputs": [
    {
     "data": {
      "text/plain": [
       "False"
      ]
     },
     "execution_count": 26,
     "metadata": {},
     "output_type": "execute_result"
    }
   ],
   "source": [
    "#define 3 randoms sets\n",
    "sample_set_1 = {1,2,3,4,5,6}\n",
    "sample_set_2 = {1,4,7}\n",
    "\n",
    "#check if 2 sets are disjoint sets\n",
    "sample_set_1.issuperset(sample_set_2)"
   ]
  },
  {
   "cell_type": "code",
   "execution_count": 28,
   "id": "794b0771",
   "metadata": {},
   "outputs": [
    {
     "data": {
      "text/plain": [
       "{1, 2}"
      ]
     },
     "execution_count": 28,
     "metadata": {},
     "output_type": "execute_result"
    }
   ],
   "source": [
    "data = ((1,2,3,4,5),\n",
    "       (2,1,1,3,1),\n",
    "       (1,2,2,1,1),\n",
    "       (1,2,3,4,1),\n",
    "       (1,1,2,3,1))\n",
    "\n",
    "set(data[0]).intersection(set(data[2]))"
   ]
  },
  {
   "cell_type": "code",
   "execution_count": 30,
   "id": "bc984ef2",
   "metadata": {},
   "outputs": [
    {
     "data": {
      "text/plain": [
       "87"
      ]
     },
     "execution_count": 30,
     "metadata": {},
     "output_type": "execute_result"
    }
   ],
   "source": [
    "my_dict ={\n",
    "    \"name\"     : \"abc\",\n",
    "    \"age\"      : 21, \n",
    "    \"roll_no\"  : 'CSE100',\n",
    "    \"percentage\" : 85\n",
    "}\n",
    "\n",
    "my_dict.update({ 'percentage':87, 'last_name' : \"xyz\"})\n",
    "my_dict['percentage']"
   ]
  },
  {
   "cell_type": "code",
   "execution_count": 33,
   "id": "51da7668",
   "metadata": {},
   "outputs": [
    {
     "data": {
      "text/plain": [
       "144"
      ]
     },
     "execution_count": 33,
     "metadata": {},
     "output_type": "execute_result"
    }
   ],
   "source": [
    "my_dict ={\n",
    "    \"name\"     : \"lakshay\",\n",
    "    \"roll_no\"  : 100,\n",
    "    \"subject\"  : ['A','B','C','D','E'],\n",
    "    'marks'     :[89, 98 ,76 ,68 ,76]\n",
    "}\n",
    "\n",
    "sum(my_dict[\"marks\"][3:5])"
   ]
  },
  {
   "cell_type": "code",
   "execution_count": 34,
   "id": "ee62d3b3",
   "metadata": {},
   "outputs": [],
   "source": [
    "#string manipulation"
   ]
  },
  {
   "cell_type": "code",
   "execution_count": 38,
   "id": "2d6341e8",
   "metadata": {},
   "outputs": [
    {
     "data": {
      "text/plain": [
       "'AYHDIV SCITYLANA'"
      ]
     },
     "execution_count": 38,
     "metadata": {},
     "output_type": "execute_result"
    }
   ],
   "source": [
    "mystring = \"ANALYTICS VIDHYA\"\n",
    "mystring[::-1]"
   ]
  },
  {
   "cell_type": "code",
   "execution_count": 39,
   "id": "30fd1218",
   "metadata": {},
   "outputs": [
    {
     "data": {
      "text/plain": [
       "True"
      ]
     },
     "execution_count": 39,
     "metadata": {},
     "output_type": "execute_result"
    }
   ],
   "source": [
    "\"analytics\".isalpha()"
   ]
  },
  {
   "cell_type": "code",
   "execution_count": 40,
   "id": "d0c6d927",
   "metadata": {},
   "outputs": [
    {
     "data": {
      "text/plain": [
       "True"
      ]
     },
     "execution_count": 40,
     "metadata": {},
     "output_type": "execute_result"
    }
   ],
   "source": [
    "\"analytics\".isalnum()"
   ]
  },
  {
   "cell_type": "code",
   "execution_count": 41,
   "id": "89381dc9",
   "metadata": {},
   "outputs": [
    {
     "data": {
      "text/plain": [
       "True"
      ]
     },
     "execution_count": 41,
     "metadata": {},
     "output_type": "execute_result"
    }
   ],
   "source": [
    "\"analytics\".islower()"
   ]
  },
  {
   "cell_type": "code",
   "execution_count": 45,
   "id": "0cc0d57d",
   "metadata": {},
   "outputs": [
    {
     "data": {
      "text/plain": [
       "[1, 1, 0, 0, 2]"
      ]
     },
     "execution_count": 45,
     "metadata": {},
     "output_type": "execute_result"
    }
   ],
   "source": [
    "mylist = ['lakshay','sanad','aravind','aisharya','prateek']\n",
    "find_a = []\n",
    "\n",
    "for name in mylist:\n",
    "    #find the position of a\n",
    "    x = name.find('a')\n",
    "    \n",
    "    #append the result\n",
    "    find_a.append(x)\n",
    "find_a"
   ]
  },
  {
   "cell_type": "code",
   "execution_count": 49,
   "id": "17f39050",
   "metadata": {},
   "outputs": [
    {
     "data": {
      "text/plain": [
       "[4, 2, 4, 5, 2]"
      ]
     },
     "execution_count": 49,
     "metadata": {},
     "output_type": "execute_result"
    }
   ],
   "source": [
    "state = ['haryana','punjab','rajasthan','karnataka','goa']\n",
    "output = []\n",
    "\n",
    "for s in state:\n",
    "    \n",
    "    split_with_a = s.split('a')\n",
    "    output.append(len(split_with_a))\n",
    "    \n",
    "output"
   ]
  },
  {
   "cell_type": "code",
   "execution_count": null,
   "id": "324918f8",
   "metadata": {},
   "outputs": [],
   "source": []
  }
 ],
 "metadata": {
  "kernelspec": {
   "display_name": "Python 3 (ipykernel)",
   "language": "python",
   "name": "python3"
  },
  "language_info": {
   "codemirror_mode": {
    "name": "ipython",
    "version": 3
   },
   "file_extension": ".py",
   "mimetype": "text/x-python",
   "name": "python",
   "nbconvert_exporter": "python",
   "pygments_lexer": "ipython3",
   "version": "3.9.13"
  }
 },
 "nbformat": 4,
 "nbformat_minor": 5
}
