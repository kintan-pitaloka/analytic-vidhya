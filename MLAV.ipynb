{
 "cells": [
  {
   "cell_type": "code",
   "execution_count": 1,
   "metadata": {},
   "outputs": [],
   "source": [
    "import pandas as pd\n",
    "import numpy as np\n",
    "import matplotlib.pyplot as plt"
   ]
  },
  {
   "cell_type": "markdown",
   "metadata": {
    "colab_type": "text",
    "id": "PPB-RGM4cx-b"
   },
   "source": [
    "---\n",
    "---\n",
    "\n",
    "<center><h1> 📍📍 Looping Constructs: 📍📍</h1></center>\n",
    "\n",
    "---"
   ]
  },
  {
   "cell_type": "markdown",
   "metadata": {
    "colab_type": "text",
    "id": "mXwSALCUcx-f"
   },
   "source": [
    "---\n",
    "\n",
    "### 📍📍 FOR LOOP AND RANGE FUNCTION\n",
    "\n",
    "- We use for loop when we want to run a block of code certain number of times.\n",
    " \n",
    "---\n",
    "\n",
    "- When we pass only one argument (considered as **`END_POINT`**) in the range function. The loop starts with **`0`** and runs till **`END_POINT - 1.`**\n"
   ]
  },
  {
   "cell_type": "code",
   "execution_count": 9,
   "metadata": {},
   "outputs": [
    {
     "name": "stdout",
     "output_type": "stream",
     "text": [
      "0123456789"
     ]
    }
   ],
   "source": [
    "for number in range (10):\n",
    "    print (number, end = '')"
   ]
  },
  {
   "cell_type": "code",
   "execution_count": 12,
   "metadata": {},
   "outputs": [
    {
     "name": "stdout",
     "output_type": "stream",
     "text": [
      "1\n",
      "2\n",
      "3\n",
      "4\n",
      "5\n",
      "6\n",
      "7\n",
      "8\n",
      "9\n",
      "10\n",
      "11\n",
      "12\n",
      "13\n",
      "14\n",
      "15\n",
      "16\n",
      "17\n",
      "18\n",
      "19\n"
     ]
    }
   ],
   "source": [
    "for number in range (1,20):\n",
    "    print(number)"
   ]
  },
  {
   "cell_type": "code",
   "execution_count": 15,
   "metadata": {},
   "outputs": [
    {
     "name": "stdout",
     "output_type": "stream",
     "text": [
      "14710131619222528"
     ]
    }
   ],
   "source": [
    "for number in range (1,30,3):\n",
    "    print(number, end = '')"
   ]
  },
  {
   "cell_type": "code",
   "execution_count": 19,
   "metadata": {},
   "outputs": [
    {
     "name": "stdout",
     "output_type": "stream",
     "text": [
      "k\n",
      "i\n",
      "n\n",
      "t\n",
      "a\n",
      "n\n",
      " \n",
      "p\n",
      "i\n",
      "t\n",
      "a\n",
      "l\n",
      "o\n",
      "k\n",
      "a\n"
     ]
    }
   ],
   "source": [
    "for character in \"kintan pitaloka\":\n",
    "    print(character)"
   ]
  },
  {
   "cell_type": "markdown",
   "metadata": {
    "colab_type": "text",
    "id": "DJP3WpLGcx_E"
   },
   "source": [
    "---\n",
    "\n",
    "### 📍📍 **`NESTED FOR LOOPS`**\n",
    "\n",
    "- A nested loop is a loop within a loop.\n",
    "- For each step in the outer loop, the inner loop exectues completely. See the below example\n",
    "\n",
    "---"
   ]
  },
  {
   "cell_type": "code",
   "execution_count": 5,
   "metadata": {
    "colab": {},
    "colab_type": "code",
    "id": "VWiztlvTcx_G",
    "outputId": "559e7332-7f55-419c-f57d-ca1b8ea70ce9"
   },
   "outputs": [
    {
     "name": "stdout",
     "output_type": "stream",
     "text": [
      "1 A\n",
      "1 B\n",
      "1 C\n",
      "2 A\n",
      "2 B\n",
      "2 C\n"
     ]
    }
   ],
   "source": [
    "# define the range of outer loop\n",
    "for outer_loop_number in range(1, 3):\n",
    "    \n",
    "    # define the inner loop\n",
    "    for inner_loop_character in \"ABC\":\n",
    "        \n",
    "        print(outer_loop_number, inner_loop_character)"
   ]
  },
  {
   "cell_type": "code",
   "execution_count": 20,
   "metadata": {},
   "outputs": [
    {
     "name": "stdout",
     "output_type": "stream",
     "text": [
      "1 A\n",
      "1 B\n",
      "1 C\n",
      "2 A\n",
      "2 B\n",
      "2 C\n",
      "3 A\n",
      "3 B\n",
      "3 C\n",
      "4 A\n",
      "4 B\n",
      "4 C\n",
      "5 A\n",
      "5 B\n",
      "5 C\n",
      "6 A\n",
      "6 B\n",
      "6 C\n",
      "7 A\n",
      "7 B\n",
      "7 C\n",
      "8 A\n",
      "8 B\n",
      "8 C\n",
      "9 A\n",
      "9 B\n",
      "9 C\n"
     ]
    }
   ],
   "source": [
    "# define the range of outer loop\n",
    "\n",
    "for outer_loop in range(1,10):\n",
    "    \n",
    "    for inner_loop in \"ABC\":\n",
    "        \n",
    "        print(outer_loop,inner_loop)"
   ]
  },
  {
   "cell_type": "markdown",
   "metadata": {
    "colab_type": "text",
    "id": "AaFBHw2Gcx_N"
   },
   "source": [
    "---\n",
    "---\n",
    "\n",
    "## 📍📍 WHILE LOOP\n",
    "\n",
    "* Another way to execute a block of code over and over again is using a while statement. \n",
    "* The code in a while clause will be executed as long as the while statement’s condition is True.\n",
    "\n",
    "\n",
    "---\n",
    "\n",
    "***In the below example, we have initialize the variable `number = 0` and we will increment it's value in each iteration. The loop will only continue to run only if the value is less than 7.***\n",
    "\n",
    "---"
   ]
  },
  {
   "cell_type": "code",
   "execution_count": 6,
   "metadata": {
    "colab": {},
    "colab_type": "code",
    "id": "TvUPcziBcx_O",
    "outputId": "d2ca4b70-1450-40dd-968e-a146b7f09139"
   },
   "outputs": [
    {
     "name": "stdout",
     "output_type": "stream",
     "text": [
      "0\n",
      "1\n",
      "2\n",
      "3\n",
      "4\n",
      "5\n",
      "6\n"
     ]
    }
   ],
   "source": [
    "number = 0\n",
    "\n",
    "while (number < 7):\n",
    "    print(number)\n",
    "    number = number + 1"
   ]
  },
  {
   "cell_type": "code",
   "execution_count": 22,
   "metadata": {},
   "outputs": [
    {
     "name": "stdout",
     "output_type": "stream",
     "text": [
      "02468"
     ]
    }
   ],
   "source": [
    "number = 0\n",
    "\n",
    "while (number < 10):\n",
    "    print(number, end = '')\n",
    "    number = number + 2"
   ]
  },
  {
   "cell_type": "code",
   "execution_count": 29,
   "metadata": {},
   "outputs": [
    {
     "name": "stdout",
     "output_type": "stream",
     "text": [
      "2\n",
      "3\n",
      "4\n",
      "5\n",
      "6\n",
      "7\n",
      "8\n",
      "9\n"
     ]
    }
   ],
   "source": [
    "number = 2\n",
    "\n",
    "while (number < 10):\n",
    "    print(number)\n",
    "    number = number + 1"
   ]
  },
  {
   "cell_type": "markdown",
   "metadata": {
    "colab_type": "text",
    "id": "Q2LyZKtCcx_g"
   },
   "source": [
    "---\n",
    "---\n",
    "\n",
    "### 📍📍 Jump Statements in Python (break, continue and pass)\n",
    "\n",
    "- Using for loops and while loops in Python allow you to automate and repeat tasks in an efficient manner.\n",
    "\n",
    "- But sometimes, an external factor may influence the way your program runs. When this occurs, you may want your program to exit a loop completely, skip part of a loop before continuing, or ignore that external factor. \n",
    "- You can do these actions with break and continue statements.\n",
    "\n",
    "#### 1. Break Statement\n",
    "- In Python, the break statement provides you with the opportunity to exit out of a loop when an external condition is triggered. \n",
    "\n",
    "- You’ll put the break statement within the block of code under your loop statement, usually after a conditional if statement.\n",
    "\n",
    "- The break statement causes a program to break out of a loop.\n",
    "\n",
    "\n",
    "Let’s look at an example that uses the break statement in a for loop:\n",
    "\n"
   ]
  },
  {
   "cell_type": "code",
   "execution_count": 35,
   "metadata": {},
   "outputs": [
    {
     "name": "stdout",
     "output_type": "stream",
     "text": [
      "this number is0\n",
      "this number is1\n",
      "this number is2\n",
      "this number is3\n",
      "this number is4\n",
      "out of loop\n"
     ]
    }
   ],
   "source": [
    "number = 0 \n",
    "\n",
    "for number in range(10):\n",
    "    if number == 5:\n",
    "        break\n",
    "        \n",
    "    print('this number is' + str(number))\n",
    "\n",
    "print('out of loop')\n",
    "    "
   ]
  },
  {
   "cell_type": "markdown",
   "metadata": {
    "colab_type": "text",
    "id": "YkUc4NPscx_r"
   },
   "source": [
    "---\n",
    "\n",
    "***Problem Statement:***\n",
    "\n",
    "- In the following example, user will enter the password which is set to be `data`.\n",
    "- If the password matches, It will print ***`Welcome to the Python Course!!`*** else print ***`Wrong Password!!` *** and user will re-enter the password.\n",
    "- In the fourth trial, it will print ***`One Trial left!!!`***.\n"
   ]
  },
  {
   "cell_type": "code",
   "execution_count": 40,
   "metadata": {},
   "outputs": [
    {
     "name": "stdin",
     "output_type": "stream",
     "text": [
      "enter password:  12\n"
     ]
    },
    {
     "name": "stdout",
     "output_type": "stream",
     "text": [
      "wrong password\n"
     ]
    },
    {
     "name": "stdin",
     "output_type": "stream",
     "text": [
      "enter password:  kintan\n"
     ]
    },
    {
     "name": "stdout",
     "output_type": "stream",
     "text": [
      "Welcome to python course\n"
     ]
    }
   ],
   "source": [
    "password = \"kintan\"\n",
    "\n",
    "for trial in range ( 1, 5):\n",
    "    \n",
    "        if password == 4:\n",
    "            print('one of trial left !!')\n",
    "            \n",
    "        enter_password = input(\"enter password: \")\n",
    "    \n",
    "        if enter_password == password:\n",
    "            print(\"Welcome to python course\")\n",
    "            break\n",
    "        \n",
    "        else:\n",
    "            print(\"wrong password\")"
   ]
  },
  {
   "cell_type": "markdown",
   "metadata": {
    "colab_type": "text",
    "id": "Jlp4QwHQcx_y"
   },
   "source": [
    "---\n",
    "\n",
    "#### 2. Continue Statement\n",
    "\n",
    "- The continue statement gives you the option to skip over the part of a loop where an external condition is triggered, but to go on to complete the rest of the loop. \n",
    "\n",
    "- That is, the current iteration of the loop will be disrupted, but the program will return to the top of the loop.\n",
    "\n",
    "- The continue statement will be within the block of code under the loop statement, usually after a conditional if statement.\n",
    "\n",
    "- The continue statement causes a program to skip certain factors that come up within a loop, but then continue through the rest of the loop.\n",
    "\n",
    "\n",
    "Using the same for loop program as in the Break Statement section above, we’ll use a continue statement rather than a break statement:\n"
   ]
  },
  {
   "cell_type": "code",
   "execution_count": 42,
   "metadata": {},
   "outputs": [
    {
     "name": "stdout",
     "output_type": "stream",
     "text": [
      "this number 0\n",
      "this number 1\n",
      "this number 2\n",
      "this number 3\n",
      "this number 4\n",
      "this number 6\n",
      "this number 7\n",
      "this number 8\n",
      "this number 9\n",
      "out of loud\n"
     ]
    }
   ],
   "source": [
    "number = 0\n",
    "\n",
    "for number in range (10):\n",
    "    if number == 5:\n",
    "        continue\n",
    "    \n",
    "    print(\"this number \" + str(number))\n",
    "print('out of loud')"
   ]
  },
  {
   "cell_type": "markdown",
   "metadata": {
    "colab_type": "text",
    "id": "kHt4iB8pcyAN"
   },
   "source": [
    "- The difference in using the continue statement rather than a break statement is that our code will continue despite the disruption when the variable number is evaluated as equivalent to 5. \n",
    "\n",
    "\n",
    "---\n",
    "\n",
    "####  Pass Statement\n",
    "\n",
    "- pass is a null operation — when it is executed, nothing happens.\n",
    "- It is useful as a placeholder when a statement is required syntactically, but no code needs to be executed.\n",
    "\n",
    "- The pass statement tells the program to disregard that condition and continue to run the program as usual.\n",
    "\n",
    "\n",
    "Using the same code block as above, let’s replace the break or continue statement with a pass statement:\n"
   ]
  },
  {
   "cell_type": "code",
   "execution_count": 43,
   "metadata": {},
   "outputs": [
    {
     "name": "stdout",
     "output_type": "stream",
     "text": [
      "this number 0\n",
      "this number 1\n",
      "this number 2\n",
      "this number 3\n",
      "this number 4\n",
      "this number 5\n",
      "this number 6\n",
      "this number 7\n",
      "this number 8\n",
      "this number 9\n",
      "out of loud\n"
     ]
    }
   ],
   "source": [
    "number = 0\n",
    "\n",
    "for number in range (10):\n",
    "    if number == 5:\n",
    "        pass\n",
    "    \n",
    "    print(\"this number \" + str(number))\n",
    "print('out of loud')"
   ]
  },
  {
   "cell_type": "code",
   "execution_count": 44,
   "metadata": {},
   "outputs": [
    {
     "name": "stdout",
     "output_type": "stream",
     "text": [
      "013456789"
     ]
    }
   ],
   "source": [
    "number = 0\n",
    "\n",
    "for number in range(10):\n",
    "    if number ==2:\n",
    "        continue\n",
    "    \n",
    "    print(number, end = '')"
   ]
  },
  {
   "cell_type": "code",
   "execution_count": 45,
   "metadata": {},
   "outputs": [
    {
     "name": "stdout",
     "output_type": "stream",
     "text": [
      "975"
     ]
    }
   ],
   "source": [
    "number = 10\n",
    "\n",
    "while number > 3:\n",
    "    if number%2 == 0:\n",
    "        number = number - 1\n",
    "        continue\n",
    "    else:\n",
    "        print(number, end = '')\n",
    "        number = number - 1"
   ]
  },
  {
   "cell_type": "code",
   "execution_count": null,
   "metadata": {},
   "outputs": [],
   "source": []
  }
 ],
 "metadata": {
  "kernelspec": {
   "display_name": "Python 3",
   "language": "python",
   "name": "python3"
  },
  "language_info": {
   "codemirror_mode": {
    "name": "ipython",
    "version": 3
   },
   "file_extension": ".py",
   "mimetype": "text/x-python",
   "name": "python",
   "nbconvert_exporter": "python",
   "pygments_lexer": "ipython3",
   "version": "3.7.6"
  }
 },
 "nbformat": 4,
 "nbformat_minor": 4
}
